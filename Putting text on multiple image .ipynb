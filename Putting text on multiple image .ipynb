{
 "cells": [
  {
   "cell_type": "code",
   "execution_count": null,
   "id": "74c58189",
   "metadata": {},
   "outputs": [],
   "source": [
    "import numpy as np\n",
    "import cv2\n",
    "\n",
    "\n",
    "image=cv2.imread('./berkeley_faces.jpg')\n",
    "\n",
    "model=cv2.CascadeClassifier('./haarcascade_frontalface_default.xml')\n",
    "cordinates,no_of_faces=model.detectMultiScale2(image)\n",
    "\n",
    "if len(no_of_faces)>0:\n",
    "    for i in range(len(no_of_faces)):\n",
    "        sol=cordinates[i]\n",
    "        pt1=(sol[0],sol[1])\n",
    "        pt2=(sol[2]+sol[0],sol[3]+sol[1])\n",
    "        cv2.rectangle(image,pt1,pt2,(0,0,0),2)\n",
    "        text='no of faces :'+ str(len(no_of_faces))\n",
    "        font=cv2.FONT_HERSHEY_COMPLEX\n",
    "        cv2.putText(image,text,(70,10),font,.5,(0,0,255),1)\n",
    "        cv2.imshow('image',image)\n",
    "\n",
    "else:\n",
    "    print('no image detected')\n",
    "\n",
    "cv2.imshow('image',image)\n",
    "cv2.waitKey()\n",
    "cv2.destroyAllWindows()"
   ]
  }
 ],
 "metadata": {
  "kernelspec": {
   "display_name": "Python 3 (ipykernel)",
   "language": "python",
   "name": "python3"
  },
  "language_info": {
   "codemirror_mode": {
    "name": "ipython",
    "version": 3
   },
   "file_extension": ".py",
   "mimetype": "text/x-python",
   "name": "python",
   "nbconvert_exporter": "python",
   "pygments_lexer": "ipython3",
   "version": "3.9.12"
  }
 },
 "nbformat": 4,
 "nbformat_minor": 5
}
